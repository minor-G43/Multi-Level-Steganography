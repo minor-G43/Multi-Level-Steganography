{
  "cells": [
    {
      "cell_type": "code",
      "execution_count": null,
      "metadata": {
        "id": "7Fz7YEQPcgDc"
      },
      "outputs": [],
      "source": [
        "import numpy as np\n",
        "import os\n",
        "import cv2\n",
        "import math\n",
        "import tarfile\n",
        "from tqdm import tqdm"
      ]
    },
    {
      "cell_type": "code",
      "execution_count": null,
      "metadata": {
        "id": "W1R-4Hnnc6bL"
      },
      "outputs": [],
      "source": [
        "def msgtobinary(msg):\n",
        "    if type(msg) == str:\n",
        "      # ord for ascii code\n",
        "        result= ''.join([ format(ord(i), \"08b\") for i in msg ])\n",
        "    \n",
        "    # check if in bytes or check if the msg is the n dimensional (nd) array of pixels\n",
        "    elif type(msg) == bytes or type(msg) == np.ndarray:\n",
        "        result= [ format(i, \"08b\") for i in msg ]\n",
        "    \n",
        "    # **\n",
        "    elif type(msg) == int or type(msg) == np.uint8:\n",
        "        result= format(msg, \"08b\")\n",
        "\n",
        "    else:\n",
        "        raise TypeError(\"Input type is not supported in this function\")\n",
        "    \n",
        "    return result"
      ]
    },
    {
      "cell_type": "code",
      "execution_count": null,
      "metadata": {
        "id": "VQH_4eKQ368q"
      },
      "outputs": [],
      "source": [
        "def encrypt(s,n):\n",
        "  fence = [[] for i in range(n)]\n",
        "  rail  = 0\n",
        "  var   = 1\n",
        "\n",
        "  for char in s:\n",
        "    fence[rail].append(char)\n",
        "    rail += var\n",
        "\n",
        "    if rail == n-1 or rail == 0:\n",
        "      var = -var\n",
        "\n",
        "  res = ''\n",
        "  for i in fence:\n",
        "    for j in i:\n",
        "      res += j\n",
        "\n",
        "  return res"
      ]
    },
    {
      "cell_type": "code",
      "execution_count": null,
      "metadata": {
        "id": "qNCIrXkRdEfs"
      },
      "outputs": [],
      "source": [
        "def encode_img_data(img):\n",
        "    data=input(\"\\nEnter the data to be Encoded in Image :\")    \n",
        "    if (len(data) == 0): \n",
        "        raise ValueError('Data entered to be encoded is empty')\n",
        "  \n",
        "    nameoffile = input(\"\\nEnter the name of the New Image (Stego Image) after Encoding(with extension):\")\n",
        "    \n",
        "    # rows*columns*3(for rgb)/ 8(bit size)\n",
        "    no_of_bytes=(img.shape[0] * img.shape[1] * 3) // 8\n",
        "    \n",
        "    print(\"\\t\\nMaximum bytes to encode in Image :\", no_of_bytes)\n",
        "    encryptedData = encrypt(data,6)\n",
        "    encryptedData +='*^*^*'\n",
        "    \n",
        "    if(len(data)>no_of_bytes):\n",
        "        raise ValueError(\"Insufficient bytes Error, Need Bigger Image or give Less Data !!\")    \n",
        "    \n",
        "    binary_data=msgtobinary(encryptedData)\n",
        "    print(\"\\n\")\n",
        "    print(binary_data)\n",
        "    print(\"\\n\")\n",
        "    print(encryptedData)\n",
        "\n",
        "    length_data=len(binary_data)\n",
        "    \n",
        "    print(\"\\nThe Length of Binary data\",length_data)\n",
        "    \n",
        "    index_data = 0\n",
        "    \n",
        "    for i in img:\n",
        "        for pixel in i:\n",
        "            r, g, b = msgtobinary(pixel)\n",
        "            if index_data < length_data:\n",
        "                pixel[0] = int(r[:-1] + binary_data[index_data], 2) \n",
        "                index_data += 1\n",
        "            if index_data < length_data:\n",
        "                pixel[1] = int(g[:-1] + binary_data[index_data], 2) \n",
        "                index_data += 1\n",
        "            if index_data < length_data:\n",
        "                pixel[2] = int(b[:-1] + binary_data[index_data], 2) \n",
        "                index_data += 1\n",
        "            if index_data >= length_data:\n",
        "                break\n",
        "    cv2.imwrite(nameoffile,img)\n",
        "    print(\"\\nEncoded the data successfully in the Image and the image is successfully saved with name \",nameoffile)"
      ]
    },
    {
      "cell_type": "code",
      "execution_count": null,
      "metadata": {
        "id": "dMMOjTsbdi2v"
      },
      "outputs": [],
      "source": [
        "def compress(tar_file, members):\n",
        "    \"\"\"\n",
        "    Adds files (`members`) to a tar_file and compress it\n",
        "    \"\"\"\n",
        "    # open file for gzip compressed writing\n",
        "    tar = tarfile.open(tar_file, mode=\"w:gz\")\n",
        "    # with progress bar\n",
        "    # set the progress bar\n",
        "    progress = tqdm(members)\n",
        "    for member in progress:\n",
        "        # add file/folder/link to the tar file (compress)\n",
        "        tar.add(member)\n",
        "        # set the progress description of the progress bar\n",
        "        progress.set_description(f\"Compressing {member}\")\n",
        "    # close the file\n",
        "    tar.close()"
      ]
    },
    {
      "cell_type": "code",
      "execution_count": null,
      "metadata": {
        "id": "TbR41aHf-OGi"
      },
      "outputs": [],
      "source": [
        "def decrypt(s,n):\n",
        "    fence = [[] for i in range(n)]\n",
        "    rail  = 0\n",
        "    var   = 1\n",
        "\n",
        "    for char in s:\n",
        "        fence[rail].append(char)\n",
        "        rail += var\n",
        "\n",
        "        if rail == n-1 or rail == 0:\n",
        "            var = -var\n",
        "\n",
        "    rFence = [[] for i in range(n)]\n",
        "\n",
        "    i = 0\n",
        "    l = len(s)\n",
        "    s = list(s)\n",
        "    for r in fence:\n",
        "        for j in range(len(r)):\n",
        "            rFence[i].append(s[0])\n",
        "            s.remove(s[0])\n",
        "        i += 1\n",
        "\n",
        "    rail = 0\n",
        "    var  = 1\n",
        "    r = ''\n",
        "    for i in range(l):\n",
        "        r += rFence[rail][0]\n",
        "        rFence[rail].remove(rFence[rail][0])\n",
        "        rail += var\n",
        "\n",
        "        if rail == n-1 or rail == 0:\n",
        "            var = -var\n",
        "    return r"
      ]
    },
    {
      "cell_type": "code",
      "execution_count": null,
      "metadata": {
        "id": "pC5g6PPpdPRG"
      },
      "outputs": [],
      "source": [
        "def decode_img_data(img):\n",
        "    data_binary = \"\"\n",
        "    for i in img:\n",
        "        for pixel in i:\n",
        "            r, g, b = msgtobinary(pixel) \n",
        "            data_binary += r[-1]  \n",
        "            data_binary += g[-1]  \n",
        "            data_binary += b[-1] \n",
        "            # ** \n",
        "            total_bytes = [ data_binary[i: i+8] for i in range(0, len(data_binary), 8) ]\n",
        "            decoded_data = \"\"\n",
        "            for byte in total_bytes:\n",
        "                decoded_data += chr(int(byte, 2))\n",
        "                if decoded_data[-5:] == \"*^*^*\": \n",
        "                    print(\"\\n\\nThe Encoded data which was hidden in the Image was :--  \",decrypt(decoded_data[:-5],6))\n",
        "                    return "
      ]
    },
    {
      "cell_type": "code",
      "execution_count": null,
      "metadata": {
        "id": "Ct_QZLtuhpUN"
      },
      "outputs": [],
      "source": [
        "def decompress(tar_file, path, members=None):\n",
        "    \"\"\"\n",
        "    Extracts `tar_file` and puts the `members` to `path`.\n",
        "    If members is None, all members on `tar_file` will be extracted.\n",
        "    \"\"\"\n",
        "    tar = tarfile.open(tar_file, mode=\"r:gz\")\n",
        "    if members is None:\n",
        "        members = tar.getmembers()\n",
        "    # with progress bar\n",
        "    # set the progress bar\n",
        "    progress = tqdm(members)\n",
        "    for member in progress:\n",
        "        tar.extract(member, path=path)\n",
        "        # set the progress description of the progress bar\n",
        "        progress.set_description(f\"Extracting {member.name}\")\n",
        "    # or use this\n",
        "    # tar.extractall(members=members, path=path)\n",
        "    # close the file\n",
        "    tar.close()"
      ]
    },
    {
      "cell_type": "code",
      "execution_count": null,
      "metadata": {
        "id": "WSHTaXpidT0j"
      },
      "outputs": [],
      "source": [
        "def img_steg():\n",
        "    while True:\n",
        "        print(\"\\n\\t\\tIMAGE STEGANOGRAPHY OPERATIONS\\n\") \n",
        "        print(\"1. Encode the Text message\") \n",
        "        print(\"2. Decode the Text message\")\n",
        "        print(\"3. Compress the Image\")\n",
        "        print(\"4. Decompress the Image\") \n",
        "        print(\"5. Exit\")  \n",
        "        choice1 = int(input(\"Enter the Choice: \"))   \n",
        "        if choice1 == 1:\n",
        "            image=cv2.imread(\"/content/sample_data/image2.jpg\")\n",
        "            encode_img_data(image)\n",
        "        elif choice1 == 2:\n",
        "            # image1=cv2.imread(input(\"Enter the Image you need to Decode to get the Secret message :  \"))\n",
        "            image1 = cv2.imread(\"/content/extracted/tar_file/encode.png\")\n",
        "            decode_img_data(image1)\n",
        "        elif choice1 == 3:\n",
        "            compress(\"compressed.tar.gz\", [\"tar_file\"])\n",
        "        elif choice1 == 4:\n",
        "            decompress(\"compressed.tar.gz\", \"extracted\")\n",
        "        elif choice1 == 5:\n",
        "            break\n",
        "        else:\n",
        "            print(\"Incorrect Choice\")\n",
        "        print(\"\\n\")"
      ]
    },
    {
      "cell_type": "code",
      "execution_count": null,
      "metadata": {
        "id": "9xBiHglidZeu"
      },
      "outputs": [],
      "source": [
        "def main():\n",
        "    print(\"\\t\\t      STEGANOGRAPHY\")   \n",
        "    while True:  \n",
        "        print(\"\\n\\t\\t\\tMAIN MENU\\n\")  \n",
        "        print(\"1. IMAGE STEGANOGRAPHY {Hiding Text in Image cover file}\")  \n",
        "        print(\"2. Exit\\n\")  \n",
        "        choice1 = int(input(\"Enter the Choice: \"))   \n",
        "        if choice1 == 1: \n",
        "            img_steg()\n",
        "        elif choice1 == 2:\n",
        "            break\n",
        "        else:\n",
        "            print(\"Incorrect Choice\")\n",
        "        print(\"\\n\\n\")"
      ]
    },
    {
      "cell_type": "code",
      "execution_count": null,
      "metadata": {
        "colab": {
          "base_uri": "https://localhost:8080/",
          "height": 1000
        },
        "id": "ymB-waAgdcqg",
        "outputId": "9e6c0dcc-9548-4b34-eab4-e0a3f2819588"
      },
      "outputs": [
        {
          "name": "stdout",
          "output_type": "stream",
          "text": [
            "\t\t      STEGANOGRAPHY\n",
            "\n",
            "\t\t\tMAIN MENU\n",
            "\n",
            "1. IMAGE STEGANOGRAPHY {Hiding Text in Image cover file}\n",
            "2. Exit\n",
            "\n",
            "Enter the Choice: 1\n",
            "\n",
            "\t\tIMAGE STEGANOGRAPHY OPERATIONS\n",
            "\n",
            "1. Encode the Text message\n",
            "2. Decode the Text message\n",
            "3. Compress the Image\n",
            "4. Decompress the Image\n",
            "5. Exit\n",
            "Enter the Choice: 3\n"
          ]
        },
        {
          "output_type": "stream",
          "name": "stderr",
          "text": [
            "Compressing tar_file: 100%|██████████| 1/1 [00:01<00:00,  1.65s/it]\n"
          ]
        },
        {
          "output_type": "stream",
          "name": "stdout",
          "text": [
            "\n",
            "\n",
            "\n",
            "\t\tIMAGE STEGANOGRAPHY OPERATIONS\n",
            "\n",
            "1. Encode the Text message\n",
            "2. Decode the Text message\n",
            "3. Compress the Image\n",
            "4. Decompress the Image\n",
            "5. Exit\n"
          ]
        },
        {
          "output_type": "error",
          "ename": "KeyboardInterrupt",
          "evalue": "ignored",
          "traceback": [
            "\u001b[0;31m---------------------------------------------------------------------------\u001b[0m",
            "\u001b[0;31mKeyboardInterrupt\u001b[0m                         Traceback (most recent call last)",
            "\u001b[0;32m/usr/local/lib/python3.7/dist-packages/ipykernel/kernelbase.py\u001b[0m in \u001b[0;36m_input_request\u001b[0;34m(self, prompt, ident, parent, password)\u001b[0m\n\u001b[1;32m    728\u001b[0m             \u001b[0;32mtry\u001b[0m\u001b[0;34m:\u001b[0m\u001b[0;34m\u001b[0m\u001b[0;34m\u001b[0m\u001b[0m\n\u001b[0;32m--> 729\u001b[0;31m                 \u001b[0mident\u001b[0m\u001b[0;34m,\u001b[0m \u001b[0mreply\u001b[0m \u001b[0;34m=\u001b[0m \u001b[0mself\u001b[0m\u001b[0;34m.\u001b[0m\u001b[0msession\u001b[0m\u001b[0;34m.\u001b[0m\u001b[0mrecv\u001b[0m\u001b[0;34m(\u001b[0m\u001b[0mself\u001b[0m\u001b[0;34m.\u001b[0m\u001b[0mstdin_socket\u001b[0m\u001b[0;34m,\u001b[0m \u001b[0;36m0\u001b[0m\u001b[0;34m)\u001b[0m\u001b[0;34m\u001b[0m\u001b[0;34m\u001b[0m\u001b[0m\n\u001b[0m\u001b[1;32m    730\u001b[0m             \u001b[0;32mexcept\u001b[0m \u001b[0mException\u001b[0m\u001b[0;34m:\u001b[0m\u001b[0;34m\u001b[0m\u001b[0;34m\u001b[0m\u001b[0m\n",
            "\u001b[0;32m/usr/local/lib/python3.7/dist-packages/jupyter_client/session.py\u001b[0m in \u001b[0;36mrecv\u001b[0;34m(self, socket, mode, content, copy)\u001b[0m\n\u001b[1;32m    802\u001b[0m         \u001b[0;32mtry\u001b[0m\u001b[0;34m:\u001b[0m\u001b[0;34m\u001b[0m\u001b[0;34m\u001b[0m\u001b[0m\n\u001b[0;32m--> 803\u001b[0;31m             \u001b[0mmsg_list\u001b[0m \u001b[0;34m=\u001b[0m \u001b[0msocket\u001b[0m\u001b[0;34m.\u001b[0m\u001b[0mrecv_multipart\u001b[0m\u001b[0;34m(\u001b[0m\u001b[0mmode\u001b[0m\u001b[0;34m,\u001b[0m \u001b[0mcopy\u001b[0m\u001b[0;34m=\u001b[0m\u001b[0mcopy\u001b[0m\u001b[0;34m)\u001b[0m\u001b[0;34m\u001b[0m\u001b[0;34m\u001b[0m\u001b[0m\n\u001b[0m\u001b[1;32m    804\u001b[0m         \u001b[0;32mexcept\u001b[0m \u001b[0mzmq\u001b[0m\u001b[0;34m.\u001b[0m\u001b[0mZMQError\u001b[0m \u001b[0;32mas\u001b[0m \u001b[0me\u001b[0m\u001b[0;34m:\u001b[0m\u001b[0;34m\u001b[0m\u001b[0;34m\u001b[0m\u001b[0m\n",
            "\u001b[0;32m/usr/local/lib/python3.7/dist-packages/zmq/sugar/socket.py\u001b[0m in \u001b[0;36mrecv_multipart\u001b[0;34m(self, flags, copy, track)\u001b[0m\n\u001b[1;32m    624\u001b[0m         \"\"\"\n\u001b[0;32m--> 625\u001b[0;31m         \u001b[0mparts\u001b[0m \u001b[0;34m=\u001b[0m \u001b[0;34m[\u001b[0m\u001b[0mself\u001b[0m\u001b[0;34m.\u001b[0m\u001b[0mrecv\u001b[0m\u001b[0;34m(\u001b[0m\u001b[0mflags\u001b[0m\u001b[0;34m,\u001b[0m \u001b[0mcopy\u001b[0m\u001b[0;34m=\u001b[0m\u001b[0mcopy\u001b[0m\u001b[0;34m,\u001b[0m \u001b[0mtrack\u001b[0m\u001b[0;34m=\u001b[0m\u001b[0mtrack\u001b[0m\u001b[0;34m)\u001b[0m\u001b[0;34m]\u001b[0m\u001b[0;34m\u001b[0m\u001b[0;34m\u001b[0m\u001b[0m\n\u001b[0m\u001b[1;32m    626\u001b[0m         \u001b[0;31m# have first part already, only loop while more to receive\u001b[0m\u001b[0;34m\u001b[0m\u001b[0;34m\u001b[0m\u001b[0;34m\u001b[0m\u001b[0m\n",
            "\u001b[0;32mzmq/backend/cython/socket.pyx\u001b[0m in \u001b[0;36mzmq.backend.cython.socket.Socket.recv\u001b[0;34m()\u001b[0m\n",
            "\u001b[0;32mzmq/backend/cython/socket.pyx\u001b[0m in \u001b[0;36mzmq.backend.cython.socket.Socket.recv\u001b[0;34m()\u001b[0m\n",
            "\u001b[0;32mzmq/backend/cython/socket.pyx\u001b[0m in \u001b[0;36mzmq.backend.cython.socket._recv_copy\u001b[0;34m()\u001b[0m\n",
            "\u001b[0;32m/usr/local/lib/python3.7/dist-packages/zmq/backend/cython/checkrc.pxd\u001b[0m in \u001b[0;36mzmq.backend.cython.checkrc._check_rc\u001b[0;34m()\u001b[0m\n",
            "\u001b[0;31mKeyboardInterrupt\u001b[0m: ",
            "\nDuring handling of the above exception, another exception occurred:\n",
            "\u001b[0;31mKeyboardInterrupt\u001b[0m                         Traceback (most recent call last)",
            "\u001b[0;32m<ipython-input-17-972361fa1b80>\u001b[0m in \u001b[0;36m<module>\u001b[0;34m()\u001b[0m\n\u001b[1;32m      1\u001b[0m \u001b[0;32mif\u001b[0m \u001b[0m__name__\u001b[0m \u001b[0;34m==\u001b[0m \u001b[0;34m\"__main__\"\u001b[0m\u001b[0;34m:\u001b[0m\u001b[0;34m\u001b[0m\u001b[0;34m\u001b[0m\u001b[0m\n\u001b[0;32m----> 2\u001b[0;31m     \u001b[0mmain\u001b[0m\u001b[0;34m(\u001b[0m\u001b[0;34m)\u001b[0m\u001b[0;34m\u001b[0m\u001b[0;34m\u001b[0m\u001b[0m\n\u001b[0m",
            "\u001b[0;32m<ipython-input-10-156b777edabf>\u001b[0m in \u001b[0;36mmain\u001b[0;34m()\u001b[0m\n\u001b[1;32m      7\u001b[0m         \u001b[0mchoice1\u001b[0m \u001b[0;34m=\u001b[0m \u001b[0mint\u001b[0m\u001b[0;34m(\u001b[0m\u001b[0minput\u001b[0m\u001b[0;34m(\u001b[0m\u001b[0;34m\"Enter the Choice: \"\u001b[0m\u001b[0;34m)\u001b[0m\u001b[0;34m)\u001b[0m\u001b[0;34m\u001b[0m\u001b[0;34m\u001b[0m\u001b[0m\n\u001b[1;32m      8\u001b[0m         \u001b[0;32mif\u001b[0m \u001b[0mchoice1\u001b[0m \u001b[0;34m==\u001b[0m \u001b[0;36m1\u001b[0m\u001b[0;34m:\u001b[0m\u001b[0;34m\u001b[0m\u001b[0;34m\u001b[0m\u001b[0m\n\u001b[0;32m----> 9\u001b[0;31m             \u001b[0mimg_steg\u001b[0m\u001b[0;34m(\u001b[0m\u001b[0;34m)\u001b[0m\u001b[0;34m\u001b[0m\u001b[0;34m\u001b[0m\u001b[0m\n\u001b[0m\u001b[1;32m     10\u001b[0m         \u001b[0;32melif\u001b[0m \u001b[0mchoice1\u001b[0m \u001b[0;34m==\u001b[0m \u001b[0;36m2\u001b[0m\u001b[0;34m:\u001b[0m\u001b[0;34m\u001b[0m\u001b[0;34m\u001b[0m\u001b[0m\n\u001b[1;32m     11\u001b[0m             \u001b[0;32mbreak\u001b[0m\u001b[0;34m\u001b[0m\u001b[0;34m\u001b[0m\u001b[0m\n",
            "\u001b[0;32m<ipython-input-15-3eb28bbe61d0>\u001b[0m in \u001b[0;36mimg_steg\u001b[0;34m()\u001b[0m\n\u001b[1;32m      7\u001b[0m         \u001b[0mprint\u001b[0m\u001b[0;34m(\u001b[0m\u001b[0;34m\"4. Decompress the Image\"\u001b[0m\u001b[0;34m)\u001b[0m\u001b[0;34m\u001b[0m\u001b[0;34m\u001b[0m\u001b[0m\n\u001b[1;32m      8\u001b[0m         \u001b[0mprint\u001b[0m\u001b[0;34m(\u001b[0m\u001b[0;34m\"5. Exit\"\u001b[0m\u001b[0;34m)\u001b[0m\u001b[0;34m\u001b[0m\u001b[0;34m\u001b[0m\u001b[0m\n\u001b[0;32m----> 9\u001b[0;31m         \u001b[0mchoice1\u001b[0m \u001b[0;34m=\u001b[0m \u001b[0mint\u001b[0m\u001b[0;34m(\u001b[0m\u001b[0minput\u001b[0m\u001b[0;34m(\u001b[0m\u001b[0;34m\"Enter the Choice: \"\u001b[0m\u001b[0;34m)\u001b[0m\u001b[0;34m)\u001b[0m\u001b[0;34m\u001b[0m\u001b[0;34m\u001b[0m\u001b[0m\n\u001b[0m\u001b[1;32m     10\u001b[0m         \u001b[0;32mif\u001b[0m \u001b[0mchoice1\u001b[0m \u001b[0;34m==\u001b[0m \u001b[0;36m1\u001b[0m\u001b[0;34m:\u001b[0m\u001b[0;34m\u001b[0m\u001b[0;34m\u001b[0m\u001b[0m\n\u001b[1;32m     11\u001b[0m             \u001b[0mimage\u001b[0m\u001b[0;34m=\u001b[0m\u001b[0mcv2\u001b[0m\u001b[0;34m.\u001b[0m\u001b[0mimread\u001b[0m\u001b[0;34m(\u001b[0m\u001b[0;34m\"/content/sample_data/image2.jpg\"\u001b[0m\u001b[0;34m)\u001b[0m\u001b[0;34m\u001b[0m\u001b[0;34m\u001b[0m\u001b[0m\n",
            "\u001b[0;32m/usr/local/lib/python3.7/dist-packages/ipykernel/kernelbase.py\u001b[0m in \u001b[0;36mraw_input\u001b[0;34m(self, prompt)\u001b[0m\n\u001b[1;32m    702\u001b[0m             \u001b[0mself\u001b[0m\u001b[0;34m.\u001b[0m\u001b[0m_parent_ident\u001b[0m\u001b[0;34m,\u001b[0m\u001b[0;34m\u001b[0m\u001b[0;34m\u001b[0m\u001b[0m\n\u001b[1;32m    703\u001b[0m             \u001b[0mself\u001b[0m\u001b[0;34m.\u001b[0m\u001b[0m_parent_header\u001b[0m\u001b[0;34m,\u001b[0m\u001b[0;34m\u001b[0m\u001b[0;34m\u001b[0m\u001b[0m\n\u001b[0;32m--> 704\u001b[0;31m             \u001b[0mpassword\u001b[0m\u001b[0;34m=\u001b[0m\u001b[0;32mFalse\u001b[0m\u001b[0;34m,\u001b[0m\u001b[0;34m\u001b[0m\u001b[0;34m\u001b[0m\u001b[0m\n\u001b[0m\u001b[1;32m    705\u001b[0m         )\n\u001b[1;32m    706\u001b[0m \u001b[0;34m\u001b[0m\u001b[0m\n",
            "\u001b[0;32m/usr/local/lib/python3.7/dist-packages/ipykernel/kernelbase.py\u001b[0m in \u001b[0;36m_input_request\u001b[0;34m(self, prompt, ident, parent, password)\u001b[0m\n\u001b[1;32m    732\u001b[0m             \u001b[0;32mexcept\u001b[0m \u001b[0mKeyboardInterrupt\u001b[0m\u001b[0;34m:\u001b[0m\u001b[0;34m\u001b[0m\u001b[0;34m\u001b[0m\u001b[0m\n\u001b[1;32m    733\u001b[0m                 \u001b[0;31m# re-raise KeyboardInterrupt, to truncate traceback\u001b[0m\u001b[0;34m\u001b[0m\u001b[0;34m\u001b[0m\u001b[0;34m\u001b[0m\u001b[0m\n\u001b[0;32m--> 734\u001b[0;31m                 \u001b[0;32mraise\u001b[0m \u001b[0mKeyboardInterrupt\u001b[0m\u001b[0;34m\u001b[0m\u001b[0;34m\u001b[0m\u001b[0m\n\u001b[0m\u001b[1;32m    735\u001b[0m             \u001b[0;32melse\u001b[0m\u001b[0;34m:\u001b[0m\u001b[0;34m\u001b[0m\u001b[0;34m\u001b[0m\u001b[0m\n\u001b[1;32m    736\u001b[0m                 \u001b[0;32mbreak\u001b[0m\u001b[0;34m\u001b[0m\u001b[0;34m\u001b[0m\u001b[0m\n",
            "\u001b[0;31mKeyboardInterrupt\u001b[0m: "
          ]
        }
      ],
      "source": [
        "if __name__ == \"__main__\":\n",
        "    main()"
      ]
    }
  ],
  "metadata": {
    "colab": {
      "name": "Stegnography.ipynb",
      "provenance": []
    },
    "kernelspec": {
      "display_name": "Python 3",
      "name": "python3"
    },
    "language_info": {
      "name": "python"
    }
  },
  "nbformat": 4,
  "nbformat_minor": 0
}